{
 "cells": [
  {
   "cell_type": "markdown",
   "metadata": {},
   "source": [
    "Quick Sort"
   ]
  },
  {
   "cell_type": "code",
   "execution_count": 4,
   "metadata": {},
   "outputs": [
    {
     "name": "stdout",
     "output_type": "stream",
     "text": [
      "3 41 52 26 38 57 9 49\n",
      "[3, 41, 26, 38, 9, 49, 52, 57]\n",
      "[3, 9, 26, 38, 41, 49, 52, 57]\n",
      "[3, 9, 26, 38, 41, 49, 52, 57]\n",
      "[3, 9, 26, 38, 41, 49, 52, 57]\n",
      "[3, 9, 26, 38, 41, 49, 52, 57]\n",
      "[3, 9, 26, 38, 41, 49, 52, 57]\n"
     ]
    }
   ],
   "source": [
    "# Quick sort logic recursive  3 41 52 26 38 57 9 49\n",
    "def partition(array,p,r):\n",
    "    \"\"\"Quick sort merging function.\"\"\"\n",
    "    pivot = array[r]\n",
    "    i = p-1\n",
    "    for j in range(p,r):\n",
    "        if array[j] <= pivot:\n",
    "            i = i+1\n",
    "            temp = array[i]\n",
    "            array[i] = array[j]\n",
    "            array[j] = temp\n",
    "    array[r] = array[i+1]\n",
    "    array[i+1] = pivot\n",
    "    \n",
    "    print(array)\n",
    "    return(i+1)\n",
    "        \n",
    "    \n",
    "\n",
    "\n",
    "def quick_sort(array,p,r):\n",
    "    \"\"\"Quick sort algorithm implementation.\"\"\"\n",
    "\n",
    "    \n",
    "    if p < r:\n",
    "        q = partition(array,p,r)\n",
    "        quick_sort(array,p,q-1)\n",
    "        quick_sort(array,q+1,r)\n",
    "    \n",
    "    return(array)\n",
    "\n",
    "    \n",
    "\n",
    "if __name__ == '__main__':\n",
    "    t = input()\n",
    "\n",
    "    q = t.split()\n",
    "    q = [int (x) for x in q]\n",
    "    \n",
    "    p  = 0\n",
    "    r  = len(q)-1\n",
    "    \n",
    "    sorted_array = quick_sort(q,p,r)\n",
    "    print(sorted_array)"
   ]
  },
  {
   "cell_type": "code",
   "execution_count": null,
   "metadata": {},
   "outputs": [],
   "source": []
  }
 ],
 "metadata": {
  "kernelspec": {
   "display_name": "Python 3",
   "language": "python",
   "name": "python3"
  },
  "language_info": {
   "codemirror_mode": {
    "name": "ipython",
    "version": 3
   },
   "file_extension": ".py",
   "mimetype": "text/x-python",
   "name": "python",
   "nbconvert_exporter": "python",
   "pygments_lexer": "ipython3",
   "version": "3.6.5"
  }
 },
 "nbformat": 4,
 "nbformat_minor": 2
}
